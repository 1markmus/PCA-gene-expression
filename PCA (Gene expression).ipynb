{
 "cells": [
  {
   "cell_type": "markdown",
   "metadata": {},
   "source": [
    "# Gene expression from mircoarrays \n",
    "#### (Breast cancer dataset: Breast_GSE10797)"
   ]
  },
  {
   "cell_type": "code",
   "execution_count": 109,
   "metadata": {},
   "outputs": [],
   "source": [
    "# Standard modules\n",
    "import numpy as np\n",
    "import pandas as pd\n",
    "import matplotlib.pyplot as plt\n",
    "import seaborn as sns\n",
    "\n",
    "# ML-modules\n",
    "from sklearn.model_selection import train_test_split\n",
    "from sklearn.pipeline import Pipeline\n",
    "from sklearn.preprocessing import StandardScaler\n",
    "from sklearn.model_selection import GridSearchCV\n",
    "from sklearn.decomposition import PCA\n",
    "\n",
    "# Metric for scoring model\n",
    "from sklearn.metrics import f1_score, confusion_matrix, precision_score, recall_score\n",
    "\n",
    "# Save model\n",
    "import joblib"
   ]
  },
  {
   "cell_type": "markdown",
   "metadata": {},
   "source": [
    "# Load dataset"
   ]
  },
  {
   "cell_type": "code",
   "execution_count": 110,
   "metadata": {},
   "outputs": [
    {
     "data": {
      "text/html": [
       "<div>\n",
       "<style scoped>\n",
       "    .dataframe tbody tr th:only-of-type {\n",
       "        vertical-align: middle;\n",
       "    }\n",
       "\n",
       "    .dataframe tbody tr th {\n",
       "        vertical-align: top;\n",
       "    }\n",
       "\n",
       "    .dataframe thead th {\n",
       "        text-align: right;\n",
       "    }\n",
       "</style>\n",
       "<table border=\"1\" class=\"dataframe\">\n",
       "  <thead>\n",
       "    <tr style=\"text-align: right;\">\n",
       "      <th></th>\n",
       "      <th>type</th>\n",
       "      <th>1007_s_at</th>\n",
       "      <th>1053_at</th>\n",
       "      <th>117_at</th>\n",
       "      <th>121_at</th>\n",
       "      <th>1255_g_at</th>\n",
       "      <th>1294_at</th>\n",
       "      <th>1316_at</th>\n",
       "      <th>1320_at</th>\n",
       "      <th>1405_i_at</th>\n",
       "      <th>...</th>\n",
       "      <th>AFFX-r2-Ec-bioD-3_at</th>\n",
       "      <th>AFFX-r2-Ec-bioD-5_at</th>\n",
       "      <th>AFFX-r2-P1-cre-3_at</th>\n",
       "      <th>AFFX-r2-P1-cre-5_at</th>\n",
       "      <th>AFFX-ThrX-3_at</th>\n",
       "      <th>AFFX-ThrX-5_at</th>\n",
       "      <th>AFFX-ThrX-M_at</th>\n",
       "      <th>AFFX-TrpnX-3_at</th>\n",
       "      <th>AFFX-TrpnX-5_at</th>\n",
       "      <th>AFFX-TrpnX-M_at</th>\n",
       "    </tr>\n",
       "    <tr>\n",
       "      <th>samples</th>\n",
       "      <th></th>\n",
       "      <th></th>\n",
       "      <th></th>\n",
       "      <th></th>\n",
       "      <th></th>\n",
       "      <th></th>\n",
       "      <th></th>\n",
       "      <th></th>\n",
       "      <th></th>\n",
       "      <th></th>\n",
       "      <th></th>\n",
       "      <th></th>\n",
       "      <th></th>\n",
       "      <th></th>\n",
       "      <th></th>\n",
       "      <th></th>\n",
       "      <th></th>\n",
       "      <th></th>\n",
       "      <th></th>\n",
       "      <th></th>\n",
       "      <th></th>\n",
       "    </tr>\n",
       "  </thead>\n",
       "  <tbody>\n",
       "    <tr>\n",
       "      <th>671</th>\n",
       "      <td>cancer_epithelial</td>\n",
       "      <td>6.421287</td>\n",
       "      <td>3.161197</td>\n",
       "      <td>1.965993</td>\n",
       "      <td>2.600064</td>\n",
       "      <td>2.157899</td>\n",
       "      <td>3.153408</td>\n",
       "      <td>2.012364</td>\n",
       "      <td>1.976855</td>\n",
       "      <td>1.609713</td>\n",
       "      <td>...</td>\n",
       "      <td>12.005226</td>\n",
       "      <td>12.476655</td>\n",
       "      <td>14.271008</td>\n",
       "      <td>13.855944</td>\n",
       "      <td>2.076140</td>\n",
       "      <td>1.875804</td>\n",
       "      <td>1.922314</td>\n",
       "      <td>2.050677</td>\n",
       "      <td>1.938257</td>\n",
       "      <td>1.737185</td>\n",
       "    </tr>\n",
       "    <tr>\n",
       "      <th>673</th>\n",
       "      <td>cancer_epithelial</td>\n",
       "      <td>6.715620</td>\n",
       "      <td>3.131431</td>\n",
       "      <td>2.624435</td>\n",
       "      <td>3.340376</td>\n",
       "      <td>2.214897</td>\n",
       "      <td>2.998384</td>\n",
       "      <td>2.377003</td>\n",
       "      <td>2.219821</td>\n",
       "      <td>1.667293</td>\n",
       "      <td>...</td>\n",
       "      <td>12.929805</td>\n",
       "      <td>12.694136</td>\n",
       "      <td>14.369922</td>\n",
       "      <td>14.290305</td>\n",
       "      <td>2.417179</td>\n",
       "      <td>1.884293</td>\n",
       "      <td>1.914287</td>\n",
       "      <td>2.037783</td>\n",
       "      <td>2.118252</td>\n",
       "      <td>1.917345</td>\n",
       "    </tr>\n",
       "    <tr>\n",
       "      <th>675</th>\n",
       "      <td>cancer_epithelial</td>\n",
       "      <td>7.019017</td>\n",
       "      <td>3.080859</td>\n",
       "      <td>2.977302</td>\n",
       "      <td>2.692181</td>\n",
       "      <td>2.023505</td>\n",
       "      <td>3.547079</td>\n",
       "      <td>2.354219</td>\n",
       "      <td>2.319934</td>\n",
       "      <td>2.793515</td>\n",
       "      <td>...</td>\n",
       "      <td>12.604099</td>\n",
       "      <td>12.620167</td>\n",
       "      <td>14.420994</td>\n",
       "      <td>14.285785</td>\n",
       "      <td>2.032913</td>\n",
       "      <td>1.903823</td>\n",
       "      <td>1.894262</td>\n",
       "      <td>1.866963</td>\n",
       "      <td>2.047231</td>\n",
       "      <td>1.954799</td>\n",
       "    </tr>\n",
       "    <tr>\n",
       "      <th>677</th>\n",
       "      <td>cancer_epithelial</td>\n",
       "      <td>7.595891</td>\n",
       "      <td>2.863032</td>\n",
       "      <td>2.499157</td>\n",
       "      <td>3.004193</td>\n",
       "      <td>2.033855</td>\n",
       "      <td>3.405192</td>\n",
       "      <td>2.346281</td>\n",
       "      <td>2.261241</td>\n",
       "      <td>1.931241</td>\n",
       "      <td>...</td>\n",
       "      <td>13.134787</td>\n",
       "      <td>13.002423</td>\n",
       "      <td>14.426406</td>\n",
       "      <td>14.303121</td>\n",
       "      <td>2.105099</td>\n",
       "      <td>1.922194</td>\n",
       "      <td>1.904258</td>\n",
       "      <td>1.902839</td>\n",
       "      <td>2.051988</td>\n",
       "      <td>1.995356</td>\n",
       "    </tr>\n",
       "    <tr>\n",
       "      <th>679</th>\n",
       "      <td>cancer_epithelial</td>\n",
       "      <td>7.312846</td>\n",
       "      <td>2.498788</td>\n",
       "      <td>2.064275</td>\n",
       "      <td>3.180191</td>\n",
       "      <td>2.011954</td>\n",
       "      <td>2.919717</td>\n",
       "      <td>2.099707</td>\n",
       "      <td>2.058700</td>\n",
       "      <td>1.742419</td>\n",
       "      <td>...</td>\n",
       "      <td>11.984974</td>\n",
       "      <td>11.990301</td>\n",
       "      <td>14.251174</td>\n",
       "      <td>14.217504</td>\n",
       "      <td>2.247308</td>\n",
       "      <td>2.275464</td>\n",
       "      <td>2.097682</td>\n",
       "      <td>2.064976</td>\n",
       "      <td>2.049793</td>\n",
       "      <td>2.060105</td>\n",
       "    </tr>\n",
       "  </tbody>\n",
       "</table>\n",
       "<p>5 rows × 22278 columns</p>\n",
       "</div>"
      ],
      "text/plain": [
       "                      type  1007_s_at   1053_at    117_at    121_at  \\\n",
       "samples                                                               \n",
       "671      cancer_epithelial   6.421287  3.161197  1.965993  2.600064   \n",
       "673      cancer_epithelial   6.715620  3.131431  2.624435  3.340376   \n",
       "675      cancer_epithelial   7.019017  3.080859  2.977302  2.692181   \n",
       "677      cancer_epithelial   7.595891  2.863032  2.499157  3.004193   \n",
       "679      cancer_epithelial   7.312846  2.498788  2.064275  3.180191   \n",
       "\n",
       "         1255_g_at   1294_at   1316_at   1320_at  1405_i_at  ...  \\\n",
       "samples                                                      ...   \n",
       "671       2.157899  3.153408  2.012364  1.976855   1.609713  ...   \n",
       "673       2.214897  2.998384  2.377003  2.219821   1.667293  ...   \n",
       "675       2.023505  3.547079  2.354219  2.319934   2.793515  ...   \n",
       "677       2.033855  3.405192  2.346281  2.261241   1.931241  ...   \n",
       "679       2.011954  2.919717  2.099707  2.058700   1.742419  ...   \n",
       "\n",
       "         AFFX-r2-Ec-bioD-3_at  AFFX-r2-Ec-bioD-5_at  AFFX-r2-P1-cre-3_at  \\\n",
       "samples                                                                    \n",
       "671                 12.005226             12.476655            14.271008   \n",
       "673                 12.929805             12.694136            14.369922   \n",
       "675                 12.604099             12.620167            14.420994   \n",
       "677                 13.134787             13.002423            14.426406   \n",
       "679                 11.984974             11.990301            14.251174   \n",
       "\n",
       "         AFFX-r2-P1-cre-5_at  AFFX-ThrX-3_at  AFFX-ThrX-5_at  AFFX-ThrX-M_at  \\\n",
       "samples                                                                        \n",
       "671                13.855944        2.076140        1.875804        1.922314   \n",
       "673                14.290305        2.417179        1.884293        1.914287   \n",
       "675                14.285785        2.032913        1.903823        1.894262   \n",
       "677                14.303121        2.105099        1.922194        1.904258   \n",
       "679                14.217504        2.247308        2.275464        2.097682   \n",
       "\n",
       "         AFFX-TrpnX-3_at  AFFX-TrpnX-5_at  AFFX-TrpnX-M_at  \n",
       "samples                                                     \n",
       "671             2.050677         1.938257         1.737185  \n",
       "673             2.037783         2.118252         1.917345  \n",
       "675             1.866963         2.047231         1.954799  \n",
       "677             1.902839         2.051988         1.995356  \n",
       "679             2.064976         2.049793         2.060105  \n",
       "\n",
       "[5 rows x 22278 columns]"
      ]
     },
     "execution_count": 110,
     "metadata": {},
     "output_type": "execute_result"
    }
   ],
   "source": [
    "# Read csv-file\n",
    "data = pd.read_csv(\"Breast_GSE10797.csv\", index_col=\"samples\")\n",
    "data.head(5)"
   ]
  },
  {
   "cell_type": "markdown",
   "metadata": {},
   "source": [
    "# Shape"
   ]
  },
  {
   "cell_type": "code",
   "execution_count": 111,
   "metadata": {},
   "outputs": [
    {
     "data": {
      "text/plain": [
       "(66, 22278)"
      ]
     },
     "execution_count": 111,
     "metadata": {},
     "output_type": "execute_result"
    }
   ],
   "source": [
    "# Check shape of dataset\n",
    "data.shape"
   ]
  },
  {
   "cell_type": "markdown",
   "metadata": {},
   "source": [
    "# Types of outcome"
   ]
  },
  {
   "cell_type": "code",
   "execution_count": 112,
   "metadata": {},
   "outputs": [
    {
     "name": "stdout",
     "output_type": "stream",
     "text": [
      "type\n",
      "cancer_epithelial    28\n",
      "cancer_stroma        28\n",
      "normal               10\n",
      "Name: count, dtype: int64\n"
     ]
    }
   ],
   "source": [
    "# Check different types of outcome\n",
    "outcomes = data.value_counts(\"type\")\n",
    "print(outcomes)"
   ]
  },
  {
   "cell_type": "markdown",
   "metadata": {},
   "source": [
    "# Create numeric categorical variables for \"type\" column"
   ]
  },
  {
   "cell_type": "code",
   "execution_count": 113,
   "metadata": {},
   "outputs": [
    {
     "data": {
      "text/html": [
       "<div>\n",
       "<style scoped>\n",
       "    .dataframe tbody tr th:only-of-type {\n",
       "        vertical-align: middle;\n",
       "    }\n",
       "\n",
       "    .dataframe tbody tr th {\n",
       "        vertical-align: top;\n",
       "    }\n",
       "\n",
       "    .dataframe thead th {\n",
       "        text-align: right;\n",
       "    }\n",
       "</style>\n",
       "<table border=\"1\" class=\"dataframe\">\n",
       "  <thead>\n",
       "    <tr style=\"text-align: right;\">\n",
       "      <th></th>\n",
       "      <th>type</th>\n",
       "      <th>1007_s_at</th>\n",
       "      <th>1053_at</th>\n",
       "      <th>117_at</th>\n",
       "      <th>121_at</th>\n",
       "      <th>1255_g_at</th>\n",
       "      <th>1294_at</th>\n",
       "      <th>1316_at</th>\n",
       "      <th>1320_at</th>\n",
       "      <th>1405_i_at</th>\n",
       "      <th>...</th>\n",
       "      <th>AFFX-r2-Ec-bioD-3_at</th>\n",
       "      <th>AFFX-r2-Ec-bioD-5_at</th>\n",
       "      <th>AFFX-r2-P1-cre-3_at</th>\n",
       "      <th>AFFX-r2-P1-cre-5_at</th>\n",
       "      <th>AFFX-ThrX-3_at</th>\n",
       "      <th>AFFX-ThrX-5_at</th>\n",
       "      <th>AFFX-ThrX-M_at</th>\n",
       "      <th>AFFX-TrpnX-3_at</th>\n",
       "      <th>AFFX-TrpnX-5_at</th>\n",
       "      <th>AFFX-TrpnX-M_at</th>\n",
       "    </tr>\n",
       "    <tr>\n",
       "      <th>samples</th>\n",
       "      <th></th>\n",
       "      <th></th>\n",
       "      <th></th>\n",
       "      <th></th>\n",
       "      <th></th>\n",
       "      <th></th>\n",
       "      <th></th>\n",
       "      <th></th>\n",
       "      <th></th>\n",
       "      <th></th>\n",
       "      <th></th>\n",
       "      <th></th>\n",
       "      <th></th>\n",
       "      <th></th>\n",
       "      <th></th>\n",
       "      <th></th>\n",
       "      <th></th>\n",
       "      <th></th>\n",
       "      <th></th>\n",
       "      <th></th>\n",
       "      <th></th>\n",
       "    </tr>\n",
       "  </thead>\n",
       "  <tbody>\n",
       "    <tr>\n",
       "      <th>671</th>\n",
       "      <td>1</td>\n",
       "      <td>6.421287</td>\n",
       "      <td>3.161197</td>\n",
       "      <td>1.965993</td>\n",
       "      <td>2.600064</td>\n",
       "      <td>2.157899</td>\n",
       "      <td>3.153408</td>\n",
       "      <td>2.012364</td>\n",
       "      <td>1.976855</td>\n",
       "      <td>1.609713</td>\n",
       "      <td>...</td>\n",
       "      <td>12.005226</td>\n",
       "      <td>12.476655</td>\n",
       "      <td>14.271008</td>\n",
       "      <td>13.855944</td>\n",
       "      <td>2.076140</td>\n",
       "      <td>1.875804</td>\n",
       "      <td>1.922314</td>\n",
       "      <td>2.050677</td>\n",
       "      <td>1.938257</td>\n",
       "      <td>1.737185</td>\n",
       "    </tr>\n",
       "    <tr>\n",
       "      <th>673</th>\n",
       "      <td>1</td>\n",
       "      <td>6.715620</td>\n",
       "      <td>3.131431</td>\n",
       "      <td>2.624435</td>\n",
       "      <td>3.340376</td>\n",
       "      <td>2.214897</td>\n",
       "      <td>2.998384</td>\n",
       "      <td>2.377003</td>\n",
       "      <td>2.219821</td>\n",
       "      <td>1.667293</td>\n",
       "      <td>...</td>\n",
       "      <td>12.929805</td>\n",
       "      <td>12.694136</td>\n",
       "      <td>14.369922</td>\n",
       "      <td>14.290305</td>\n",
       "      <td>2.417179</td>\n",
       "      <td>1.884293</td>\n",
       "      <td>1.914287</td>\n",
       "      <td>2.037783</td>\n",
       "      <td>2.118252</td>\n",
       "      <td>1.917345</td>\n",
       "    </tr>\n",
       "    <tr>\n",
       "      <th>675</th>\n",
       "      <td>1</td>\n",
       "      <td>7.019017</td>\n",
       "      <td>3.080859</td>\n",
       "      <td>2.977302</td>\n",
       "      <td>2.692181</td>\n",
       "      <td>2.023505</td>\n",
       "      <td>3.547079</td>\n",
       "      <td>2.354219</td>\n",
       "      <td>2.319934</td>\n",
       "      <td>2.793515</td>\n",
       "      <td>...</td>\n",
       "      <td>12.604099</td>\n",
       "      <td>12.620167</td>\n",
       "      <td>14.420994</td>\n",
       "      <td>14.285785</td>\n",
       "      <td>2.032913</td>\n",
       "      <td>1.903823</td>\n",
       "      <td>1.894262</td>\n",
       "      <td>1.866963</td>\n",
       "      <td>2.047231</td>\n",
       "      <td>1.954799</td>\n",
       "    </tr>\n",
       "    <tr>\n",
       "      <th>677</th>\n",
       "      <td>1</td>\n",
       "      <td>7.595891</td>\n",
       "      <td>2.863032</td>\n",
       "      <td>2.499157</td>\n",
       "      <td>3.004193</td>\n",
       "      <td>2.033855</td>\n",
       "      <td>3.405192</td>\n",
       "      <td>2.346281</td>\n",
       "      <td>2.261241</td>\n",
       "      <td>1.931241</td>\n",
       "      <td>...</td>\n",
       "      <td>13.134787</td>\n",
       "      <td>13.002423</td>\n",
       "      <td>14.426406</td>\n",
       "      <td>14.303121</td>\n",
       "      <td>2.105099</td>\n",
       "      <td>1.922194</td>\n",
       "      <td>1.904258</td>\n",
       "      <td>1.902839</td>\n",
       "      <td>2.051988</td>\n",
       "      <td>1.995356</td>\n",
       "    </tr>\n",
       "    <tr>\n",
       "      <th>679</th>\n",
       "      <td>1</td>\n",
       "      <td>7.312846</td>\n",
       "      <td>2.498788</td>\n",
       "      <td>2.064275</td>\n",
       "      <td>3.180191</td>\n",
       "      <td>2.011954</td>\n",
       "      <td>2.919717</td>\n",
       "      <td>2.099707</td>\n",
       "      <td>2.058700</td>\n",
       "      <td>1.742419</td>\n",
       "      <td>...</td>\n",
       "      <td>11.984974</td>\n",
       "      <td>11.990301</td>\n",
       "      <td>14.251174</td>\n",
       "      <td>14.217504</td>\n",
       "      <td>2.247308</td>\n",
       "      <td>2.275464</td>\n",
       "      <td>2.097682</td>\n",
       "      <td>2.064976</td>\n",
       "      <td>2.049793</td>\n",
       "      <td>2.060105</td>\n",
       "    </tr>\n",
       "  </tbody>\n",
       "</table>\n",
       "<p>5 rows × 22278 columns</p>\n",
       "</div>"
      ],
      "text/plain": [
       "        type  1007_s_at   1053_at    117_at    121_at  1255_g_at   1294_at  \\\n",
       "samples                                                                      \n",
       "671        1   6.421287  3.161197  1.965993  2.600064   2.157899  3.153408   \n",
       "673        1   6.715620  3.131431  2.624435  3.340376   2.214897  2.998384   \n",
       "675        1   7.019017  3.080859  2.977302  2.692181   2.023505  3.547079   \n",
       "677        1   7.595891  2.863032  2.499157  3.004193   2.033855  3.405192   \n",
       "679        1   7.312846  2.498788  2.064275  3.180191   2.011954  2.919717   \n",
       "\n",
       "          1316_at   1320_at  1405_i_at  ...  AFFX-r2-Ec-bioD-3_at  \\\n",
       "samples                                 ...                         \n",
       "671      2.012364  1.976855   1.609713  ...             12.005226   \n",
       "673      2.377003  2.219821   1.667293  ...             12.929805   \n",
       "675      2.354219  2.319934   2.793515  ...             12.604099   \n",
       "677      2.346281  2.261241   1.931241  ...             13.134787   \n",
       "679      2.099707  2.058700   1.742419  ...             11.984974   \n",
       "\n",
       "         AFFX-r2-Ec-bioD-5_at  AFFX-r2-P1-cre-3_at  AFFX-r2-P1-cre-5_at  \\\n",
       "samples                                                                   \n",
       "671                 12.476655            14.271008            13.855944   \n",
       "673                 12.694136            14.369922            14.290305   \n",
       "675                 12.620167            14.420994            14.285785   \n",
       "677                 13.002423            14.426406            14.303121   \n",
       "679                 11.990301            14.251174            14.217504   \n",
       "\n",
       "         AFFX-ThrX-3_at  AFFX-ThrX-5_at  AFFX-ThrX-M_at  AFFX-TrpnX-3_at  \\\n",
       "samples                                                                    \n",
       "671            2.076140        1.875804        1.922314         2.050677   \n",
       "673            2.417179        1.884293        1.914287         2.037783   \n",
       "675            2.032913        1.903823        1.894262         1.866963   \n",
       "677            2.105099        1.922194        1.904258         1.902839   \n",
       "679            2.247308        2.275464        2.097682         2.064976   \n",
       "\n",
       "         AFFX-TrpnX-5_at  AFFX-TrpnX-M_at  \n",
       "samples                                    \n",
       "671             1.938257         1.737185  \n",
       "673             2.118252         1.917345  \n",
       "675             2.047231         1.954799  \n",
       "677             2.051988         1.995356  \n",
       "679             2.049793         2.060105  \n",
       "\n",
       "[5 rows x 22278 columns]"
      ]
     },
     "execution_count": 113,
     "metadata": {},
     "output_type": "execute_result"
    }
   ],
   "source": [
    "# Types of cancer assigned to number\n",
    "data[\"type\"] = data[\"type\"].astype(\"category\")\n",
    "\n",
    "# Rename categories\n",
    "data[\"type\"] = data[\"type\"].cat.rename_categories({\n",
    "            \"normal\": 0, \n",
    "            \"cancer_epithelial\": 1, \n",
    "            \"cancer_stroma\": 2})\n",
    "\n",
    "# Save as category\n",
    "data[\"type\"].astype(\"category\")\n",
    "\n",
    "# Save labels\n",
    "labels = [\"normal\", \"cancer_epithelial\", \"cancer_stroma\"]\n",
    "\n",
    "data.head(5)"
   ]
  },
  {
   "cell_type": "markdown",
   "metadata": {},
   "source": [
    "# Split data"
   ]
  },
  {
   "cell_type": "code",
   "execution_count": 114,
   "metadata": {},
   "outputs": [],
   "source": [
    "# Set seed\n",
    "seed = 123\n",
    "\n",
    "# X and y\n",
    "X = data.drop([\"type\"], axis=1)\n",
    "y = data[\"type\"]\n",
    "\n",
    "# Split data (stratify y due to skew in prevalence of types)\n",
    "X_train, X_test, y_train, y_test = train_test_split(X, y, test_size= 0.3, random_state=seed, stratify=y)"
   ]
  },
  {
   "cell_type": "markdown",
   "metadata": {},
   "source": [
    "# Plot explained variables from PCA"
   ]
  },
  {
   "cell_type": "code",
   "execution_count": 115,
   "metadata": {},
   "outputs": [
    {
     "data": {
      "image/png": "[encoded data removed]",
      "text/plain": [
       "<Figure size 1500x800 with 1 Axes>"
      ]
     },
     "metadata": {},
     "output_type": "display_data"
    }
   ],
   "source": [
    "# Instansiate pipeline\n",
    "pca_pipeline = Pipeline([\n",
    "    (\"scaler\", StandardScaler()),\n",
    "    (\"pca\", PCA(random_state=seed))\n",
    "])\n",
    "\n",
    "# Fit data\n",
    "pca_pipeline.fit(data)\n",
    "\n",
    "# Get PCA steps from Pipeline\n",
    "pca_step = pca_pipeline.named_steps[\"pca\"]\n",
    "\n",
    "# Plot the explained variances\n",
    "features = range(pca_step.n_components_)\n",
    "plt.figure(figsize=(15, 8))\n",
    "plt.bar(features, pca_step.explained_variance_ratio_)\n",
    "plt.title(\"PCA features and variance\", fontsize = 18, fontweight = \"bold\")\n",
    "plt.xlabel('PCA feature', fontweight = \"bold\", fontsize = 14)\n",
    "plt.ylabel('Variance', fontweight = \"bold\", fontsize = 14)\n",
    "plt.xticks(features, rotation = 90)\n",
    "plt.show()"
   ]
  },
  {
   "cell_type": "markdown",
   "metadata": {},
   "source": [
    "# How many features i nessesary to explain 90% of the variance?"
   ]
  },
  {
   "cell_type": "code",
   "execution_count": 131,
   "metadata": {},
   "outputs": [
    {
     "name": "stdout",
     "output_type": "stream",
     "text": [
      "The first 50 features explain 90% of the variance\n",
      "The number of components (n_coomponents) used in the following models is 25.\n",
      "Other methods such as t-SNE could have been used instead of PCA to reduce features.\n"
     ]
    }
   ],
   "source": [
    "sum = 0.0\n",
    "count = 0\n",
    "for i in range(len(pca_step.explained_variance_ratio_)):\n",
    "    if sum <= 0.9:\n",
    "        sum = pca_step.explained_variance_ratio_[i] + sum \n",
    "        count += 1\n",
    "\n",
    "print(f'The first {count + 1} features explain 90% of the variance')\n",
    "print('The number of components (n_coomponents) used in the following models is 25.\\nOther methods such as t-SNE could have been used instead of PCA to reduce features.')"
   ]
  },
  {
   "cell_type": "markdown",
   "metadata": {},
   "source": [
    "# Logistic Regression"
   ]
  },
  {
   "cell_type": "code",
   "execution_count": 117,
   "metadata": {},
   "outputs": [],
   "source": [
    "# Chosen model\n",
    "from sklearn.linear_model import LogisticRegression\n",
    "\n",
    "# Instansiate pipeline\n",
    "logreg_pipeline = Pipeline([\n",
    "    (\"scaler\", StandardScaler()),\n",
    "    (\"pca\", PCA(random_state=seed)),\n",
    "    (\"logreg\", LogisticRegression(max_iter= 1000, multi_class=\"multinomial\", random_state=seed, n_jobs= -1))\n",
    "]) \n",
    "\n",
    "# Hyperparameters for logreg\n",
    "logreg_params = {\n",
    "    \"pca__n_components\": [25],\n",
    "    \"logreg__C\": [0.1, 1],\n",
    "}\n",
    "\n",
    "# GridSearchCV with cv = 5\n",
    "logreg = GridSearchCV(logreg_pipeline, param_grid=logreg_params, cv=5, verbose=0)"
   ]
  },
  {
   "cell_type": "markdown",
   "metadata": {},
   "source": [
    "# Test model (logreg)"
   ]
  },
  {
   "cell_type": "code",
   "execution_count": 118,
   "metadata": {},
   "outputs": [
    {
     "data": {
      "text/plain": [
       "['best_logreg_mdl.joblib']"
      ]
     },
     "execution_count": 118,
     "metadata": {},
     "output_type": "execute_result"
    }
   ],
   "source": [
    "# Fit data to pipeline\n",
    "logreg.fit(X_train, y_train)\n",
    "\n",
    "# Best model\n",
    "best_logreg_mdl = logreg.best_estimator_\n",
    "best_logreg_params = logreg.best_params_\n",
    "\n",
    "# Save logistic model\n",
    "joblib.dump(best_logreg_mdl, \"best_logreg_mdl.joblib\")"
   ]
  },
  {
   "cell_type": "markdown",
   "metadata": {},
   "source": [
    "# Best model hyperparameters (logreg)"
   ]
  },
  {
   "cell_type": "code",
   "execution_count": 119,
   "metadata": {},
   "outputs": [
    {
     "name": "stdout",
     "output_type": "stream",
     "text": [
      "{'logreg__C': 0.1, 'pca__n_components': 25}\n"
     ]
    }
   ],
   "source": [
    "print(best_logreg_params)"
   ]
  },
  {
   "cell_type": "markdown",
   "metadata": {},
   "source": [
    "# Predict with best model (logreg)"
   ]
  },
  {
   "cell_type": "code",
   "execution_count": 120,
   "metadata": {},
   "outputs": [
    {
     "data": {
      "image/png": "[encoded data removed]",
      "text/plain": [
       "<Figure size 640x480 with 2 Axes>"
      ]
     },
     "metadata": {},
     "output_type": "display_data"
    }
   ],
   "source": [
    "# Predict y_pred from X_test\n",
    "y_pred_logreg = best_logreg_mdl.predict(X_test)\n",
    "\n",
    "# Recall and precision\n",
    "logreg_recall = recall_score(y_pred_logreg, y_test, average=\"weighted\")\n",
    "logreg_precision = precision_score(y_pred_logreg, y_test, average=\"weighted\")\n",
    "\n",
    "# Evaluate score\n",
    "logreg_confusion = confusion_matrix(y_pred_logreg, y_test)\n",
    "\n",
    "# Display confusion matrix with heatmap\n",
    "sns.heatmap(logreg_confusion, annot=True, cmap=\"Blues\", annot_kws={\"fontsize\": 14})\n",
    "plt.title(\"PCA and LogisticRegression\", fontsize = 14, fontweight = \"bold\")\n",
    "plt.xlabel(\"Predicted class\", fontsize = 12, fontweight = \"bold\")\n",
    "plt.ylabel(\"Actual class\", fontsize = 12, fontweight = \"bold\")\n",
    "plt.xticks(np.arange(3)+0.5, [\"normal\", \"cancer_epithelial\", \"cancer_stroma\"])\n",
    "plt.yticks(np.arange(3)+0.5, [\"normal\", \"cancer_epithelial\", \"cancer_stroma\"])\n",
    "plt.show()"
   ]
  },
  {
   "cell_type": "markdown",
   "metadata": {},
   "source": [
    "# SVC"
   ]
  },
  {
   "cell_type": "code",
   "execution_count": 121,
   "metadata": {},
   "outputs": [],
   "source": [
    "# Chosen model\n",
    "from sklearn.svm import SVC\n",
    "\n",
    "# Instansiate pipeline\n",
    "svc_pipeline = Pipeline([\n",
    "    (\"scaler\", StandardScaler()),\n",
    "    (\"pca\", PCA(random_state=seed)),\n",
    "    (\"svc\", SVC(random_state=seed))\n",
    "]) \n",
    "\n",
    "# Hyperparameters for SVC\n",
    "svc_params = {\n",
    "    \"pca__n_components\": [25],\n",
    "    \"svc__C\": [0.1, 1, 10],\n",
    "}\n",
    "\n",
    "# GridSearchCV with cv = 5\n",
    "svc = GridSearchCV(svc_pipeline, param_grid=svc_params, cv=5, verbose=0)"
   ]
  },
  {
   "cell_type": "markdown",
   "metadata": {},
   "source": [
    "# Test model (SVC)"
   ]
  },
  {
   "cell_type": "code",
   "execution_count": 122,
   "metadata": {},
   "outputs": [
    {
     "data": {
      "text/plain": [
       "['best_svc_mdl.joblib']"
      ]
     },
     "execution_count": 122,
     "metadata": {},
     "output_type": "execute_result"
    }
   ],
   "source": [
    "# Fit data to pipeline\n",
    "svc.fit(X_train, y_train)\n",
    "\n",
    "# Best model\n",
    "best_svc_mdl = svc.best_estimator_\n",
    "best_svc_params = svc.best_params_\n",
    "\n",
    "# Save SVC model\n",
    "joblib.dump(best_svc_mdl, \"best_svc_mdl.joblib\")"
   ]
  },
  {
   "cell_type": "markdown",
   "metadata": {},
   "source": [
    "# Best model hyperparameters (SVC)"
   ]
  },
  {
   "cell_type": "code",
   "execution_count": 123,
   "metadata": {},
   "outputs": [
    {
     "name": "stdout",
     "output_type": "stream",
     "text": [
      "{'pca__n_components': 25, 'svc__C': 10}\n"
     ]
    }
   ],
   "source": [
    "print(best_svc_params)"
   ]
  },
  {
   "cell_type": "markdown",
   "metadata": {},
   "source": [
    "# Predict with best model (SVC)"
   ]
  },
  {
   "cell_type": "code",
   "execution_count": 124,
   "metadata": {},
   "outputs": [
    {
     "data": {
      "image/png": "[encoded data removed]",
      "text/plain": [
       "<Figure size 640x480 with 2 Axes>"
      ]
     },
     "metadata": {},
     "output_type": "display_data"
    }
   ],
   "source": [
    "# Predict y_pred from X_test\n",
    "y_pred_svc = best_svc_mdl.predict(X_test)\n",
    "\n",
    "# Recall and precision\n",
    "svc_recall = recall_score(y_pred_svc, y_test, average=\"weighted\")\n",
    "svc_precision = precision_score(y_pred_svc, y_test, average=\"weighted\")\n",
    "\n",
    "# Evaluate score\n",
    "svc_confusion = confusion_matrix(y_pred_svc, y_test)\n",
    "\n",
    "# Display confusion matrix with heatmap\n",
    "sns.heatmap(svc_confusion, annot=True, cmap=\"Blues\", annot_kws={\"fontsize\": 14})\n",
    "plt.title(\"PCA and SVC\", fontsize = 14, fontweight = \"bold\")\n",
    "plt.xlabel(\"Predicted class\", fontsize = 12, fontweight = \"bold\")\n",
    "plt.ylabel(\"Actual class\", fontsize = 12, fontweight = \"bold\")\n",
    "plt.xticks(np.arange(3)+0.5, [\"normal\", \"cancer_epithelial\", \"cancer_stroma\"])\n",
    "plt.yticks(np.arange(3)+0.5, [\"normal\", \"cancer_epithelial\", \"cancer_stroma\"])\n",
    "plt.show()"
   ]
  },
  {
   "cell_type": "markdown",
   "metadata": {},
   "source": [
    "# KNeighborsClassifier"
   ]
  },
  {
   "cell_type": "code",
   "execution_count": 125,
   "metadata": {},
   "outputs": [],
   "source": [
    "# Chosen model\n",
    "from sklearn.neighbors import KNeighborsClassifier\n",
    "\n",
    "# Instansiate pipeline\n",
    "knc_pipeline = Pipeline([\n",
    "    (\"scaler\", StandardScaler()),\n",
    "    (\"pca\", PCA(random_state=seed)),\n",
    "    (\"knc\", KNeighborsClassifier(n_jobs=-1))\n",
    "]) \n",
    "\n",
    "# Hyperparameters for logreg\n",
    "knc_params = {\n",
    "    \"pca__n_components\": [25],\n",
    "    \"knc__n_neighbors\": [3, 4, 5],\n",
    "    \"knc__algorithm\": [\"auto\", \"ball_tree\", \"kd_tree\"]\n",
    "}\n",
    "\n",
    "# GridSearchCV with cv = 5\n",
    "knc = GridSearchCV(knc_pipeline, param_grid=knc_params, cv=5, verbose=0)"
   ]
  },
  {
   "cell_type": "markdown",
   "metadata": {},
   "source": [
    "# Test model (KNC)"
   ]
  },
  {
   "cell_type": "code",
   "execution_count": 126,
   "metadata": {},
   "outputs": [
    {
     "data": {
      "text/plain": [
       "['best_knc_mdl.joblib']"
      ]
     },
     "execution_count": 126,
     "metadata": {},
     "output_type": "execute_result"
    }
   ],
   "source": [
    "# Fit data to pipeline\n",
    "knc.fit(X_train, y_train)\n",
    "\n",
    "# Best model\n",
    "best_knc_mdl = knc.best_estimator_\n",
    "best_knc_params = knc.best_params_\n",
    "\n",
    "# Save logistic model\n",
    "joblib.dump(best_knc_mdl, \"best_knc_mdl.joblib\")"
   ]
  },
  {
   "cell_type": "markdown",
   "metadata": {},
   "source": [
    "# Best model hyperparameters (KNC)"
   ]
  },
  {
   "cell_type": "code",
   "execution_count": 127,
   "metadata": {},
   "outputs": [
    {
     "name": "stdout",
     "output_type": "stream",
     "text": [
      "{'knc__algorithm': 'auto', 'knc__n_neighbors': 3, 'pca__n_components': 25}\n"
     ]
    }
   ],
   "source": [
    "print(best_knc_params)"
   ]
  },
  {
   "cell_type": "markdown",
   "metadata": {},
   "source": [
    "# Predict with best model (KNC)"
   ]
  },
  {
   "cell_type": "code",
   "execution_count": 128,
   "metadata": {},
   "outputs": [
    {
     "data": {
      "image/png": "[encoded data removed]",
      "text/plain": [
       "<Figure size 640x480 with 2 Axes>"
      ]
     },
     "metadata": {},
     "output_type": "display_data"
    }
   ],
   "source": [
    "# Predict y_pred from X_test\n",
    "y_pred_knc = best_knc_mdl.predict(X_test)\n",
    "\n",
    "# Recall and precision\n",
    "knc_recall = recall_score(y_pred_knc, y_test, average=\"weighted\")\n",
    "knc_precision = precision_score(y_pred_knc, y_test, average=\"weighted\")\n",
    "\n",
    "# Evaluate score\n",
    "knc_confusion = confusion_matrix(y_pred_knc, y_test)\n",
    "\n",
    "# Display confusion matrix with heatmap\n",
    "sns.heatmap(knc_confusion, annot=True, cmap=\"Blues\", annot_kws={\"fontsize\": 14})\n",
    "plt.title(\"PCA and KNC\", fontsize = 14, fontweight = \"bold\")\n",
    "plt.xlabel(\"Predicted class\", fontsize = 12, fontweight = \"bold\")\n",
    "plt.ylabel(\"Actual class\", fontsize = 12, fontweight = \"bold\")\n",
    "plt.xticks(np.arange(3)+0.5, [\"normal\", \"cancer_epithelial\", \"cancer_stroma\"])\n",
    "plt.yticks(np.arange(3)+0.5, [\"normal\", \"cancer_epithelial\", \"cancer_stroma\"])\n",
    "plt.show()"
   ]
  },
  {
   "cell_type": "markdown",
   "metadata": {},
   "source": [
    "# Comparison between models"
   ]
  },
  {
   "cell_type": "code",
   "execution_count": 129,
   "metadata": {},
   "outputs": [
    {
     "data": {
      "text/html": [
       "<div>\n",
       "<style scoped>\n",
       "    .dataframe tbody tr th:only-of-type {\n",
       "        vertical-align: middle;\n",
       "    }\n",
       "\n",
       "    .dataframe tbody tr th {\n",
       "        vertical-align: top;\n",
       "    }\n",
       "\n",
       "    .dataframe thead th {\n",
       "        text-align: right;\n",
       "    }\n",
       "</style>\n",
       "<table border=\"1\" class=\"dataframe\">\n",
       "  <thead>\n",
       "    <tr style=\"text-align: right;\">\n",
       "      <th></th>\n",
       "      <th>Best Params</th>\n",
       "      <th>Recall</th>\n",
       "      <th>Precision</th>\n",
       "    </tr>\n",
       "  </thead>\n",
       "  <tbody>\n",
       "    <tr>\n",
       "      <th>Logistic Regression</th>\n",
       "      <td>{'logreg__C': 0.1, 'pca__n_components': 25}</td>\n",
       "      <td>0.85</td>\n",
       "      <td>0.861111</td>\n",
       "    </tr>\n",
       "    <tr>\n",
       "      <th>SVC</th>\n",
       "      <td>{'pca__n_components': 25, 'svc__C': 10}</td>\n",
       "      <td>0.90</td>\n",
       "      <td>0.922917</td>\n",
       "    </tr>\n",
       "    <tr>\n",
       "      <th>KNeighborsClassifier</th>\n",
       "      <td>{'knc__algorithm': 'auto', 'knc__n_neighbors':...</td>\n",
       "      <td>0.70</td>\n",
       "      <td>0.789583</td>\n",
       "    </tr>\n",
       "  </tbody>\n",
       "</table>\n",
       "</div>"
      ],
      "text/plain": [
       "                                                            Best Params  \\\n",
       "Logistic Regression         {'logreg__C': 0.1, 'pca__n_components': 25}   \n",
       "SVC                             {'pca__n_components': 25, 'svc__C': 10}   \n",
       "KNeighborsClassifier  {'knc__algorithm': 'auto', 'knc__n_neighbors':...   \n",
       "\n",
       "                      Recall  Precision  \n",
       "Logistic Regression     0.85   0.861111  \n",
       "SVC                     0.90   0.922917  \n",
       "KNeighborsClassifier    0.70   0.789583  "
      ]
     },
     "metadata": {},
     "output_type": "display_data"
    }
   ],
   "source": [
    "results = pd.DataFrame({\n",
    "    \"Best Params\": [best_logreg_params, best_svc_params, best_knc_params],\n",
    "    \"Recall\": [\n",
    "        logreg_recall,\n",
    "        svc_recall,\n",
    "        knc_recall\n",
    "    ],\n",
    "    \"Precision\": [\n",
    "        logreg_precision,\n",
    "        svc_precision,\n",
    "        knc_precision\n",
    "    ]\n",
    "})\n",
    "\n",
    "results.index = [\"Logistic Regression\", \"SVC\", \"KNeighborsClassifier\"]\n",
    "\n",
    "display(results)"
   ]
  }
 ],
 "metadata": {
  "kernelspec": {
   "display_name": "base",
   "language": "python",
   "name": "python3"
  },
  "language_info": {
   "codemirror_mode": {
    "name": "ipython",
    "version": 3
   },
   "file_extension": ".py",
   "mimetype": "text/x-python",
   "name": "python",
   "nbconvert_exporter": "python",
   "pygments_lexer": "ipython3",
   "version": "3.12.2"
  }
 },
 "nbformat": 4,
 "nbformat_minor": 2
}
